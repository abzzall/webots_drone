{
 "cells": [
  {
   "cell_type": "code",
   "id": "initial_id",
   "metadata": {
    "collapsed": true,
    "ExecuteTime": {
     "end_time": "2025-03-17T06:42:09.173106Z",
     "start_time": "2025-03-17T06:41:56.523165Z"
    }
   },
   "source": [
    "import torch\n",
    "\n",
    "device = torch.device(\"cuda\" if torch.cuda.is_available() else \"cpu\")\n",
    "print(f\"Using device: {device}\")\n"
   ],
   "outputs": [
    {
     "name": "stdout",
     "output_type": "stream",
     "text": [
      "Using device: cuda\n"
     ]
    }
   ],
   "execution_count": 1
  },
  {
   "metadata": {
    "ExecuteTime": {
     "end_time": "2025-03-17T09:38:25.973754Z",
     "start_time": "2025-03-17T09:38:25.944303Z"
    }
   },
   "cell_type": "code",
   "source": [
    "import torch\n",
    "import numpy as np\n",
    "device = torch.device(\"cuda\" if torch.cuda.is_available() else \"cpu\")\n",
    "print(f\"Using device: {device}\")\n",
    "GRID_SIZE = torch.tensor( 500, device=device)  # 500x500 grid\n",
    "FLOOR_WIDTH = 835\n",
    "FLOOR_DEPTH = 913\n",
    "CELL_WIDTH = FLOOR_WIDTH / GRID_SIZE\n",
    "CELL_DEPTH = FLOOR_DEPTH / GRID_SIZE\n"
   ],
   "id": "1c9c3e3597f25683",
   "outputs": [
    {
     "name": "stdout",
     "output_type": "stream",
     "text": [
      "Using device: cuda\n"
     ]
    }
   ],
   "execution_count": 24
  },
  {
   "metadata": {
    "ExecuteTime": {
     "end_time": "2025-03-17T09:38:27.227058Z",
     "start_time": "2025-03-17T09:38:27.209628Z"
    }
   },
   "cell_type": "code",
   "source": [
    "GRID_BORDERS=torch.zeros((GRID_SIZE + 2, GRID_SIZE + 2, 6), dtype=torch.float64, device=device)\n",
    "\n",
    "def init_grid_borders():\n",
    "    global GRID_BORDERS\n",
    "    # Create a tensor for grid borders\n",
    "    half_cell_width = CELL_WIDTH / 2\n",
    "    half_cell_height = CELL_DEPTH / 2\n",
    "\n",
    "    # Create the grid indices\n",
    "    i_indices = torch.arange(GRID_SIZE + 2, device=device).float()\n",
    "    j_indices = torch.arange(GRID_SIZE + 2, device=device).float()\n",
    "\n",
    "    # Create meshgrid for i and j indices\n",
    "    i_grid, j_grid = torch.meshgrid(i_indices, j_indices, indexing='ij')\n",
    "\n",
    "    # Calculate the X and Y values for the grid\n",
    "    top_y = -FLOOR_DEPTH / 2 + i_grid*CELL_DEPTH\n",
    "    right_x = -FLOOR_WIDTH / 2 + j_grid * CELL_WIDTH  # right_x = -FLOOR_WIDTH/2 + j * CELL_WIDTH\n",
    "    middle_x = right_x - half_cell_width\n",
    "    left_x = right_x - CELL_WIDTH\n",
    "    middle_y = top_y - half_cell_height\n",
    "    bottom_y = top_y - CELL_DEPTH\n",
    "\n",
    "\n",
    "    # Populate the GRID_BORDERS tensor with vectorized assignment\n",
    "    GRID_BORDERS[..., 0] = left_x  # left_x\n",
    "    GRID_BORDERS[..., 1] = middle_x  # middle_x\n",
    "    GRID_BORDERS[..., 2] = right_x  # right_x\n",
    "    GRID_BORDERS[..., 3] = bottom_y  # bottom_y\n",
    "    GRID_BORDERS[..., 4] = middle_y  # middle_y\n",
    "    GRID_BORDERS[..., 5] = top_y  # top_y\n",
    "\n",
    "    # Optionally, move the result to GPU if needed\n",
    "    GRID_BORDERS = GRID_BORDERS.to(device)"
   ],
   "id": "bfe08286841875b",
   "outputs": [],
   "execution_count": 25
  },
  {
   "metadata": {
    "ExecuteTime": {
     "end_time": "2025-03-17T08:37:42.880159Z",
     "start_time": "2025-03-17T08:37:07.656933Z"
    }
   },
   "cell_type": "code",
   "source": [
    "init_grid_borders()\n",
    "init_grid_borders()\n",
    "\n",
    "for i in range(GRID_SIZE+2):\n",
    "    for j in range(GRID_SIZE+2):\n",
    "        for k in range(6):\n",
    "            if GRID_BORDERS[i,j,k] - GRID_BORDERS[i,j,k].item()>0.001:\n",
    "                print(i, j, k, GRID_BORDERS[i,j,k], GRID_BORDERS[i,j,k].item())"
   ],
   "id": "fc8dec87d6d7ce6f",
   "outputs": [],
   "execution_count": 22
  },
  {
   "metadata": {
    "ExecuteTime": {
     "end_time": "2025-03-17T11:27:55.715242Z",
     "start_time": "2025-03-17T11:27:55.699933Z"
    }
   },
   "cell_type": "code",
   "source": "x,y,z = torch.zeros(3)\n",
   "id": "26fa77702057013a",
   "outputs": [],
   "execution_count": 27
  },
  {
   "metadata": {
    "ExecuteTime": {
     "end_time": "2025-03-17T11:28:00.300298Z",
     "start_time": "2025-03-17T11:28:00.276940Z"
    }
   },
   "cell_type": "code",
   "source": "x",
   "id": "806b303cd227f7a6",
   "outputs": [
    {
     "data": {
      "text/plain": [
       "tensor(0.)"
      ]
     },
     "execution_count": 28,
     "metadata": {},
     "output_type": "execute_result"
    }
   ],
   "execution_count": 28
  },
  {
   "metadata": {
    "ExecuteTime": {
     "end_time": "2025-03-17T11:28:30.828806Z",
     "start_time": "2025-03-17T11:28:30.819809Z"
    }
   },
   "cell_type": "code",
   "source": "f'x={x}'",
   "id": "55289a53c3bbc21c",
   "outputs": [
    {
     "data": {
      "text/plain": [
       "'x=0.0'"
      ]
     },
     "execution_count": 29,
     "metadata": {},
     "output_type": "execute_result"
    }
   ],
   "execution_count": 29
  },
  {
   "metadata": {},
   "cell_type": "code",
   "outputs": [],
   "execution_count": null,
   "source": "",
   "id": "e402fb0a228dcf4e"
  }
 ],
 "metadata": {
  "kernelspec": {
   "display_name": "Python 3",
   "language": "python",
   "name": "python3"
  },
  "language_info": {
   "codemirror_mode": {
    "name": "ipython",
    "version": 2
   },
   "file_extension": ".py",
   "mimetype": "text/x-python",
   "name": "python",
   "nbconvert_exporter": "python",
   "pygments_lexer": "ipython2",
   "version": "2.7.6"
  }
 },
 "nbformat": 4,
 "nbformat_minor": 5
}
