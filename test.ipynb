{
 "cells": [
  {
   "metadata": {
    "ExecuteTime": {
     "end_time": "2025-04-04T15:15:50.491380Z",
     "start_time": "2025-04-04T15:15:47.642518Z"
    }
   },
   "cell_type": "code",
   "source": [
    "!pip install nest_asyncio\n",
    "import nest_asyncio\n",
    "nest_asyncio.apply()\n"
   ],
   "id": "27bc73d20bd128a0",
   "outputs": [
    {
     "name": "stdout",
     "output_type": "stream",
     "text": [
      "Requirement already satisfied: nest_asyncio in c:\\users\\abzza\\pycharmprojects\\webots_drone\\.venv1\\lib\\site-packages (1.6.0)\n"
     ]
    }
   ],
   "execution_count": 18
  },
  {
   "metadata": {
    "ExecuteTime": {
     "end_time": "2025-04-04T15:17:29.790300Z",
     "start_time": "2025-04-04T15:17:29.781153Z"
    }
   },
   "cell_type": "code",
   "source": [
    "import asyncpg\n",
    "import numpy as np\n",
    "import matplotlib.pyplot as plt\n",
    "\n",
    "async def fetch_pheromone_matrix_numpy(pool, episode_id: int, timestep: int, grid_size: int) -> np.ndarray:\n",
    "    query = \"\"\"\n",
    "    SELECT pheromone\n",
    "    FROM pheromone_matrix_logs\n",
    "    WHERE episode_id = $1 AND timestep = $2;\n",
    "    \"\"\"\n",
    "    row = await pool.fetchrow(query, episode_id, timestep)\n",
    "    if row is None:\n",
    "        raise ValueError(\"No pheromone matrix found for the given episode and timestep.\")\n",
    "\n",
    "    byte_data = row['pheromone']\n",
    "    shape = (grid_size + 2, grid_size + 2)\n",
    "    return np.frombuffer(byte_data, dtype=np.float64).reshape(shape)\n",
    "\n",
    "async def run_main():\n",
    "    pool = await asyncpg.create_pool(\n",
    "        user='postgres',\n",
    "        password='1',\n",
    "        database='webots_drone_async',\n",
    "        host='localhost'\n",
    "    )\n",
    "\n",
    "    grid_size = 500  # change to your GRID_SIZE\n",
    "    matrix = await fetch_pheromone_matrix_numpy(pool, episode_id=20, timestep=1653, grid_size=grid_size)\n",
    "\n",
    "    await pool.close()\n",
    "    return matrix\n"
   ],
   "id": "f6d7e146d7c4b804",
   "outputs": [],
   "execution_count": 23
  },
  {
   "metadata": {
    "ExecuteTime": {
     "end_time": "2025-04-04T15:17:31.272916Z",
     "start_time": "2025-04-04T15:17:30.669264Z"
    }
   },
   "cell_type": "code",
   "source": "pheromone_matrix = await run_main()\n",
   "id": "3d4a05e2560e6140",
   "outputs": [],
   "execution_count": 24
  },
  {
   "metadata": {
    "ExecuteTime": {
     "end_time": "2025-04-04T15:19:50.601898Z",
     "start_time": "2025-04-04T15:19:50.588508Z"
    }
   },
   "cell_type": "code",
   "source": "pheromone_matrix[240:260, 240:260]",
   "id": "eda4b3e04350653a",
   "outputs": [
    {
     "data": {
      "text/plain": [
       "array([[0.91391537, 0.91104327, 0.90905214, 0.90782519, 0.90713144,\n",
       "        0.90676018, 0.90656776, 0.90646975, 0.90642028, 0.90639543,\n",
       "        0.90641291, 0.90645141, 0.90652962, 0.90668448, 0.90698565,\n",
       "        0.90755291, 0.90856695, 0.91022848, 0.91262536, 0.91558666],\n",
       "       [0.91012873, 0.90581688, 0.90237192, 0.89997162, 0.89848758,\n",
       "        0.89764678, 0.89719633, 0.89696272, 0.8968437 , 0.89678361,\n",
       "        0.89682588, 0.89691856, 0.89710535, 0.89746948, 0.89815692,\n",
       "        0.89938388, 0.90138899, 0.90426987, 0.90780996, 0.91155518],\n",
       "       [0.90699554, 0.9012689 , 0.89604866, 0.89184533, 0.88889944,\n",
       "        0.88707097, 0.88603259, 0.88547555, 0.88518646, 0.88503912,\n",
       "        0.88514274, 0.88536808, 0.88581516, 0.8866608 , 0.88817267,\n",
       "        0.89063605, 0.89415922, 0.89846206, 0.90298178, 0.90724245],\n",
       "       [0.90447309, 0.89747749, 0.89048898, 0.88405013, 0.87881896,\n",
       "        0.87512801, 0.87282673, 0.87151624, 0.87081213, 0.87044642,\n",
       "        0.87070347, 0.87125337, 0.87231189, 0.87420601, 0.87729468,\n",
       "        0.8816902 , 0.88702205, 0.89257772, 0.89777096, 0.90236708],\n",
       "       [0.90256966, 0.89440651, 0.88581233, 0.87711121, 0.86899711,\n",
       "        0.86233875, 0.8576055 , 0.85463928, 0.85294481, 0.85203277,\n",
       "        0.8526731 , 0.85400058, 0.85641808, 0.86035774, 0.865966  ,\n",
       "        0.87272109, 0.8796989 , 0.88616027, 0.89182536, 0.89680282],\n",
       "       [0.90127959, 0.89207845, 0.88199646, 0.87121028, 0.8601245 ,\n",
       "        0.84965112, 0.84096655, 0.83474459, 0.83082432, 0.82857715,\n",
       "        0.83015128, 0.83323296, 0.83834953, 0.8456171 , 0.85438933,\n",
       "        0.86337465, 0.87161238, 0.87875893, 0.88497182, 0.89078822],\n",
       "       [0.90049597, 0.89049555, 0.87908792, 0.86635243, 0.85247746,\n",
       "        0.83798805, 0.82412562, 0.8125229 , 0.80415262, 0.79885195,\n",
       "        0.80254784, 0.80912783, 0.81869075, 0.83019271, 0.84209177,\n",
       "        0.85290078, 0.86217224, 0.87013253, 0.87748663, 0.88501796],\n",
       "       [0.90005759, 0.8895321 , 0.87710303, 0.86262585, 0.84611343,\n",
       "        0.82776933, 0.80832861, 0.78956123, 0.77377264, 0.76233767,\n",
       "        0.77024217, 0.78251502, 0.7977631 , 0.81341046, 0.82807179,\n",
       "        0.84051278, 0.85104195, 0.86060739, 0.8702349 , 0.88029351],\n",
       "       [0.89982468, 0.88899251, 0.87589217, 0.86007218, 0.84119529,\n",
       "        0.81915277, 0.79420875, 0.76753457, 0.74179003, 0.72020726,\n",
       "        0.73494786, 0.75432326, 0.77507004, 0.79390556, 0.81128049,\n",
       "        0.82575608, 0.83862645, 0.8512887 , 0.86424941, 0.87699665],\n",
       "       [0.89970449, 0.88870564, 0.87521312, 0.85851052, 0.83781044,\n",
       "        0.81244042, 0.78211979, 0.74738173, 0.71038409, 0.67522678,\n",
       "        0.6990574 , 0.72539136, 0.75009645, 0.77034458, 0.79117735,\n",
       "        0.80919503, 0.82638708, 0.8435396 , 0.86004869, 0.87497643],\n",
       "       [0.89966401, 0.88860823, 0.87497912, 0.85795984, 0.83658727,\n",
       "        0.81003786, 0.77835321, 0.74340654, 0.70886686, 0.67813734,\n",
       "        0.69252471, 0.71045696, 0.72873672, 0.74395315, 0.76921897,\n",
       "        0.79300599, 0.81621159, 0.83809018, 0.85747085, 0.87384564],\n",
       "       [0.8996639 , 0.88860797, 0.87497844, 0.85795802, 0.83658224,\n",
       "        0.81002306, 0.77830682, 0.74325351, 0.70835646, 0.67652437,\n",
       "        0.68798853, 0.70000814, 0.70954553, 0.7153868 , 0.74798698,\n",
       "        0.77960036, 0.80905198, 0.83474145, 0.85602712, 0.87324635],\n",
       "       [0.89970411, 0.8887047 , 0.87521071, 0.85850412, 0.83779264,\n",
       "        0.81238812, 0.78195783, 0.74686223, 0.70872251, 0.67023054,\n",
       "        0.68567761, 0.69562327, 0.69609019, 0.68956865, 0.73109581,\n",
       "        0.77035965, 0.80470275, 0.83288253, 0.85526848, 0.8729408 ],\n",
       "       [0.89982392, 0.88899061, 0.87588728, 0.86005908, 0.84115855,\n",
       "        0.81904494, 0.79388233, 0.76654501, 0.73892494, 0.71274394,\n",
       "        0.71762956, 0.72105705, 0.72187404, 0.72119135, 0.75036824,\n",
       "        0.78047577, 0.809361  , 0.83485153, 0.85606758, 0.87326175],\n",
       "       [0.90005605, 0.88952824, 0.87709299, 0.86259864, 0.84603674,\n",
       "        0.8275474 , 0.80768579, 0.78777054, 0.76921897, 0.75228129,\n",
       "        0.75059507, 0.75027089, 0.75210951, 0.75556982, 0.77438392,\n",
       "        0.79505018, 0.81696716, 0.83836476, 0.85757232, 0.87388426],\n",
       "       [0.90049284, 0.89048759, 0.87906695, 0.86629512, 0.85231716,\n",
       "        0.83753997, 0.82291733, 0.80952261, 0.79760874, 0.78670081,\n",
       "        0.78272468, 0.7812084 , 0.78323281, 0.78789201, 0.79971931,\n",
       "        0.81292971, 0.82787912, 0.84410591, 0.8602616 , 0.87505782],\n",
       "       [0.90127314, 0.89206179, 0.881952  , 0.87108909, 0.8597948 ,\n",
       "        0.84878443, 0.83885716, 0.83020114, 0.82243575, 0.81543362,\n",
       "        0.81196319, 0.81070261, 0.8121334 , 0.81585249, 0.82324125,\n",
       "        0.83165488, 0.84125421, 0.85236485, 0.86467006, 0.87715969],\n",
       "       [0.9025561 , 0.89437098, 0.88571745, 0.87685842, 0.86834556,\n",
       "        0.86077813, 0.85428043, 0.84853861, 0.84341557, 0.83920359,\n",
       "        0.83706427, 0.83635142, 0.83712322, 0.83935169, 0.84371275,\n",
       "        0.8491172 , 0.85533923, 0.86255233, 0.87104732, 0.88061841],\n",
       "       [0.90444405, 0.89740116, 0.89028893, 0.88354236, 0.87761798,\n",
       "        0.87259219, 0.8682011 , 0.86431674, 0.86114008, 0.85887557,\n",
       "        0.85779174, 0.85745499, 0.85781309, 0.85892943, 0.86124962,\n",
       "        0.86453824, 0.86863639, 0.8733972 , 0.8789837 , 0.8856532 ],\n",
       "       [0.90693279, 0.90110659, 0.89564168, 0.89089238, 0.88690214,\n",
       "        0.88344611, 0.88041004, 0.87793916, 0.87618336, 0.87508881,\n",
       "        0.8745961 , 0.87444971, 0.87460417, 0.87510913, 0.87622463,\n",
       "        0.87802345, 0.88058148, 0.88378545, 0.88753487, 0.89197625]])"
      ]
     },
     "execution_count": 26,
     "metadata": {},
     "output_type": "execute_result"
    }
   ],
   "execution_count": 26
  },
  {
   "metadata": {
    "ExecuteTime": {
     "end_time": "2025-04-04T15:31:27.883245Z",
     "start_time": "2025-04-04T15:31:27.861998Z"
    }
   },
   "cell_type": "code",
   "source": [
    "import torch\n",
    "device = torch.device('cuda' if torch.cuda.is_available() else 'cpu')\n",
    "MAX_PHEROMONE = torch.exp2(torch.tensor(100, dtype=torch.float64, device=device))\n",
    "GRID_SIZE = torch.tensor( 500, device=device)  # 500x500 grid\n",
    "PHEROMONE_MATRIX = torch.zeros((GRID_SIZE+2, GRID_SIZE+2), dtype=torch.float64, device=device)\n",
    "    # Generate row and column indices with float64 precision\n",
    "i_indices = torch.arange(GRID_SIZE+2, dtype=torch.float64, device=device)  # Row indices\n",
    "j_indices = torch.arange(GRID_SIZE+2, dtype=torch.float64, device=device)  # Column indices\n",
    "    # Create a meshgrid of indices for rows and columns\n",
    "i_grid, j_grid = torch.meshgrid(i_indices, j_indices, indexing='ij')\n",
    "\n",
    "new_pheromone_matrix = torch.zeros_like(PHEROMONE_MATRIX, dtype=torch.float64, device=device)\n"
   ],
   "id": "cc0a91d0c0136fe6",
   "outputs": [],
   "execution_count": 31
  },
  {
   "metadata": {
    "ExecuteTime": {
     "end_time": "2025-04-04T15:37:16.746727Z",
     "start_time": "2025-04-04T15:37:16.739786Z"
    }
   },
   "cell_type": "code",
   "source": [
    "row=252\n",
    "col=250"
   ],
   "id": "17a1f75069988f60",
   "outputs": [],
   "execution_count": 46
  },
  {
   "metadata": {
    "ExecuteTime": {
     "end_time": "2025-04-04T15:37:22.945330Z",
     "start_time": "2025-04-04T15:37:22.937948Z"
    }
   },
   "cell_type": "code",
   "source": "new_pheromone_matrix+= MAX_PHEROMONE / (1+torch.exp2(torch.abs(row - i_grid)) + torch.exp2(torch.abs(col - j_grid)))\n",
   "id": "f30fa19e31407d1f",
   "outputs": [],
   "execution_count": 47
  },
  {
   "metadata": {
    "ExecuteTime": {
     "end_time": "2025-04-04T15:37:26.325521Z",
     "start_time": "2025-04-04T15:37:26.312437Z"
    }
   },
   "cell_type": "code",
   "source": "new_pheromone_matrix[251, 251]",
   "id": "fd9f57d29bbb64b2",
   "outputs": [
    {
     "data": {
      "text/plain": [
       "tensor(5.0706e+29, device='cuda:0', dtype=torch.float64)"
      ]
     },
     "execution_count": 48,
     "metadata": {},
     "output_type": "execute_result"
    }
   ],
   "execution_count": 48
  },
  {
   "metadata": {
    "ExecuteTime": {
     "end_time": "2025-04-04T15:39:55.268766Z",
     "start_time": "2025-04-04T15:39:55.227729Z"
    }
   },
   "cell_type": "code",
   "source": [
    "PHEROMONE_MATRIX = (PHEROMONE_MATRIX  + new_pheromone_matrix)/2\n",
    "PHEROMONE_MATRIX = torch.clip(PHEROMONE_MATRIX, 0, MAX_PHEROMONE)"
   ],
   "id": "9d4e14733f880fdf",
   "outputs": [],
   "execution_count": 49
  },
  {
   "metadata": {
    "ExecuteTime": {
     "end_time": "2025-04-04T15:40:42.458288Z",
     "start_time": "2025-04-04T15:40:42.450920Z"
    }
   },
   "cell_type": "code",
   "source": "PHEROMONE_MATRIX[252, 250]",
   "id": "c743c87f798d469b",
   "outputs": [
    {
     "data": {
      "text/plain": [
       "tensor(3.1691e+29, device='cuda:0', dtype=torch.float64)"
      ]
     },
     "execution_count": 52,
     "metadata": {},
     "output_type": "execute_result"
    }
   ],
   "execution_count": 52
  },
  {
   "metadata": {
    "ExecuteTime": {
     "end_time": "2025-04-05T15:46:07.991883Z",
     "start_time": "2025-04-05T15:46:07.811808Z"
    }
   },
   "cell_type": "code",
   "source": [
    "import torch\n",
    "device = torch.device(\"cuda\" if torch.cuda.is_available() else \"cpu\")\n",
    "print(f\"Using device: {device}\")\n",
    "GRID_SIZE = torch.tensor( 500, device=device)  # 500x500 grid\n",
    "FLOOR_WIDTH = torch.tensor(835, device=device)\n",
    "FLOOR_DEPTH = torch.tensor(913, device=device)\n",
    "CELL_WIDTH = FLOOR_WIDTH / GRID_SIZE\n",
    "CELL_DEPTH = FLOOR_DEPTH / GRID_SIZE\n",
    "MAX_TARGET_DISTANCE = torch.sqrt(CELL_WIDTH**2 + CELL_DEPTH**2)\n",
    "GRID_BORDERS=torch.zeros((GRID_SIZE + 2, GRID_SIZE + 2, 6), dtype=torch.float64, device=device)\n",
    "MAX_PHEROMONE = torch.exp2(torch.tensor(20, dtype=torch.float64, device=device))\n",
    "def init_grid_borders():\n",
    "    global GRID_BORDERS\n",
    "    # Create a tensor for grid borders\n",
    "    half_cell_width = CELL_WIDTH / 2\n",
    "    half_cell_height = CELL_DEPTH / 2\n",
    "\n",
    "    # Create the grid indices\n",
    "    i_indices = torch.arange(GRID_SIZE.item() + 2, device=device).float()\n",
    "    j_indices = torch.arange(GRID_SIZE.item() + 2, device=device).float()\n",
    "\n",
    "    # Create meshgrid for i and j indices\n",
    "    i_grid, j_grid = torch.meshgrid(i_indices, j_indices, indexing='ij')\n",
    "\n",
    "    # Calculate the X and Y values for the grid\n",
    "    top_y = -FLOOR_DEPTH / 2 + i_grid*CELL_DEPTH\n",
    "    right_x = -FLOOR_WIDTH / 2 + j_grid * CELL_WIDTH  # right_x = -FLOOR_WIDTH/2 + j * CELL_WIDTH\n",
    "    middle_x = right_x - half_cell_width\n",
    "    left_x = right_x - CELL_WIDTH\n",
    "    middle_y = top_y - half_cell_height\n",
    "    bottom_y = top_y - CELL_DEPTH\n",
    "\n",
    "\n",
    "    # Populate the GRID_BORDERS tensor with vectorized assignment\n",
    "    GRID_BORDERS[..., 0] = left_x  # left_x\n",
    "    GRID_BORDERS[..., 1] = middle_x  # middle_x\n",
    "    GRID_BORDERS[..., 2] = right_x  # right_x\n",
    "    GRID_BORDERS[..., 3] = bottom_y  # bottom_y\n",
    "    GRID_BORDERS[..., 4] = middle_y  # middle_y\n",
    "    GRID_BORDERS[..., 5] = top_y  # top_y\n",
    "\n",
    "    # Optionally, move the result to GPU if needed\n",
    "    GRID_BORDERS = GRID_BORDERS.to(device)\n",
    "\n",
    "init_grid_borders()\n",
    "def find_grid_coordinates(pos):\n",
    "    \"\"\"\n",
    "    Find the grid cell (row, column) corresponding to the given (x, y) world coordinates.\n",
    "    Grid starts from 1.\n",
    "    \"\"\"\n",
    "    column = int(torch.floor((pos[0] + FLOOR_WIDTH / 2) / CELL_WIDTH)) + 1\n",
    "    row = int(torch.floor((pos[1] + FLOOR_DEPTH / 2) / CELL_DEPTH)) + 1\n",
    "    left_x, middle_x, right_x, bottom_y, middle_y, top_y=grid_borders(row, column)\n",
    "    if pos[0] < left_x:\n",
    "        column = column - 1\n",
    "    if pos[1] < bottom_y:\n",
    "        row = row - 1\n",
    "    if pos[0] > right_x:\n",
    "        column = column + 1\n",
    "    if pos[1] > top_y:\n",
    "        row = row + 1\n",
    "\n",
    "    if not 0 <= row <= GRID_SIZE+1 or not 0 <= column <= GRID_SIZE+1:\n",
    "        print(f\"Coordinates ({pos}) are out of grid bounds!\")\n",
    "    return torch.tensor([row, column], dtype=torch.int, device=device)\n",
    "\n",
    "def grid_borders(row, column):\n",
    "    \"\"\"\n",
    "    Given a grid coordinate (row, column), calculate the world-coordinate borders of that grid cell.\n",
    "    \"\"\"\n",
    "    # x_min = (column - 1) * CELL_WIDTH - FLOOR_WIDTH / 2\n",
    "    # y_min = (row - 1) * CELL_DEPTH - FLOOR_DEPTH / 2\n",
    "    # x_max = column * CELL_WIDTH - FLOOR_WIDTH / 2\n",
    "    # y_max = row * CELL_DEPTH - FLOOR_DEPTH / 2\n",
    "\n",
    "    # return x_min, y_min, x_max, y_max\n",
    "    return GRID_BORDERS[row, column]\n",
    "def angle_between_vectors(v1, v2):\n",
    "    \"\"\"Calculate the signed angle between two 2D vectors using PyTorch.\"\"\"\n",
    "    dot = torch.dot(v1, v2)  # Dot product\n",
    "    det = v1[0] * v2[1] - v1[1] * v2[0]  # Determinant (cross product in 2D)\n",
    "    angle = torch.atan2(det, dot)  # Signed angle in radians\n",
    "    return angle\n"
   ],
   "id": "3088ec95fea5b6c6",
   "outputs": [
    {
     "name": "stdout",
     "output_type": "stream",
     "text": [
      "Using device: cuda\n"
     ]
    }
   ],
   "execution_count": 7
  },
  {
   "metadata": {
    "ExecuteTime": {
     "end_time": "2025-04-05T15:46:11.347986Z",
     "start_time": "2025-04-05T15:46:11.341962Z"
    }
   },
   "cell_type": "code",
   "source": "pos=torch.tensor([100,100], dtype=torch.float64, device=device)",
   "id": "7a7ce30f2edd8643",
   "outputs": [],
   "execution_count": 8
  },
  {
   "metadata": {
    "ExecuteTime": {
     "end_time": "2025-04-05T15:46:12.571536Z",
     "start_time": "2025-04-05T15:46:12.561540Z"
    }
   },
   "cell_type": "code",
   "source": "row, col =find_grid_coordinates(pos)",
   "id": "29dea91e4d362c80",
   "outputs": [],
   "execution_count": 9
  },
  {
   "metadata": {
    "ExecuteTime": {
     "end_time": "2025-04-05T15:46:31.925580Z",
     "start_time": "2025-04-05T15:46:31.810908Z"
    }
   },
   "cell_type": "code",
   "source": "grid_borders(row, col)",
   "id": "8e3bfc8fa44ba70b",
   "outputs": [
    {
     "data": {
      "text/plain": [
       "tensor([ 98.5300,  99.3650, 100.2000,  98.6040,  99.5170, 100.4300],\n",
       "       device='cuda:0', dtype=torch.float64)"
      ]
     },
     "execution_count": 10,
     "metadata": {},
     "output_type": "execute_result"
    }
   ],
   "execution_count": 10
  }
 ],
 "metadata": {
  "kernelspec": {
   "display_name": "Python 3",
   "language": "python",
   "name": "python3"
  },
  "language_info": {
   "codemirror_mode": {
    "name": "ipython",
    "version": 2
   },
   "file_extension": ".py",
   "mimetype": "text/x-python",
   "name": "python",
   "nbconvert_exporter": "python",
   "pygments_lexer": "ipython2",
   "version": "2.7.6"
  }
 },
 "nbformat": 4,
 "nbformat_minor": 5
}
